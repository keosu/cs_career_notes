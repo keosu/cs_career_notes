{
 "cells": [
  {
   "cell_type": "markdown",
   "metadata": {},
   "source": [
    "# Rust基础"
   ]
  },
  {
   "cell_type": "code",
   "execution_count": 4,
   "metadata": {
    "vscode": {
     "languageId": "rust"
    }
   },
   "outputs": [
    {
     "name": "stdout",
     "output_type": "stream",
     "text": [
      "4\n"
     ]
    }
   ],
   "source": [
    "// 程序入口：main函数\n",
    "fn main() {\n",
    "    println!(\"Hello Rust!\"); \n",
    "    \n",
    "    // 变量定义\n",
    "    let a = 1;           // 默认变量是不可修改的\n",
    "    let mut b = 2;       // mut关键字使得变量可修改\n",
    "    b = add(a, 3);\n",
    "    println!(\"{}\", b); \n",
    "}\n",
    "// 函数定义\n",
    "fn add(a: i32, b: i32) -> i32 {\n",
    "    a + b\n",
    "}"
   ]
  },
  {
   "cell_type": "markdown",
   "metadata": {},
   "source": [
    "\n",
    "## 基本类型\n",
    "\n",
    "- 数值：  \n",
    "    有符号：i8,i16,i32,i64,i128, isize(长度arch相关)  \n",
    "    无符号: u8,u16,u32,u64,u128, usize(长度arch相关)  \n",
    "- 字符： 'x'， '国'  : 4 bytes\n",
    "- 布尔： true/false  : 1byte\n",
    "- 单元： （）        : 0 byte"
   ]
  },
  {
   "cell_type": "code",
   "execution_count": 8,
   "metadata": {
    "vscode": {
     "languageId": "rust"
    }
   },
   "outputs": [
    {
     "name": "stdout",
     "output_type": "stream",
     "text": [
      "memory size: 4 bytes\n",
      "memory size: 1 bytes\n",
      "memory size: 0 bytes\n"
     ]
    }
   ],
   "source": [
    "let c = 'z';\n",
    "let z = 'ℤ';\n",
    "let g = '国';\n",
    "let heart_eyed_cat = '😻';\n",
    "\n",
    "println!(\"memory size: {} bytes\",std::mem::size_of_val(&heart_eyed_cat));\n",
    "\n",
    "let a = true;\n",
    "println!(\"memory size: {} bytes\",std::mem::size_of_val(&a));\n",
    "\n",
    "let c = ();\n",
    "println!(\"memory size: {} bytes\",std::mem::size_of_val(&c));\n",
    "\n"
   ]
  },
  {
   "cell_type": "markdown",
   "metadata": {},
   "source": [
    "## 复合类型\n",
    "- 元组：（1, 'X', \"ABC\"）\n",
    "- 结构体: struct\n",
    "- 枚举: enum\n",
    "- 数组: [1,2,3,4] , [[1,2],[3,4]]"
   ]
  },
  {
   "cell_type": "code",
   "execution_count": null,
   "metadata": {
    "vscode": {
     "languageId": "rust"
    }
   },
   "outputs": [],
   "source": [
    "// 元组\n",
    "let tup = (500, 6.4, 1);\n",
    "\n",
    "let (x, y, z) = tup;\n",
    "\n",
    "println!(\"The value of y is: {}\", y);\n",
    "\n",
    "let x: (i32, f64, u8) = (500, 6.4, 1); \n",
    "let five_hundred = x.0; \n",
    "let six_point_four = x.1; \n",
    "let one = x.2;"
   ]
  },
  {
   "cell_type": "code",
   "execution_count": null,
   "metadata": {
    "vscode": {
     "languageId": "rust"
    }
   },
   "outputs": [],
   "source": [
    "// 结构体\n",
    "\n",
    "struct User {\n",
    "    active: bool,\n",
    "    username: String,\n",
    "    email: String,\n",
    "    sign_in_count: u64,\n",
    "}\n",
    "\n",
    "let user1 = User {\n",
    "    email: String::from(\"someone@example.com\"),\n",
    "    username: String::from(\"someusername123\"),\n",
    "    active: true,\n",
    "    sign_in_count: 1,\n",
    "};\n",
    "\n",
    "\n",
    "fn build_user(email: String, username: String) -> User {\n",
    "    User {\n",
    "        email: email,\n",
    "        username: username,\n",
    "        active: true,\n",
    "        sign_in_count: 1,\n",
    "    }\n",
    "}\n",
    "\n",
    "let user2 = User {\n",
    "    email: String::from(\"another@example.com\"),\n",
    "    ..user1\n",
    "};\n",
    "// .. 语法表明凡是我们没有显式声明的字段，全部从 user1 中自动获取。\n",
    "// 需要注意的是 ..user1 必须在结构体的尾部使用。"
   ]
  },
  {
   "cell_type": "code",
   "execution_count": null,
   "metadata": {
    "vscode": {
     "languageId": "rust"
    }
   },
   "outputs": [],
   "source": [
    "// 枚举(enum)\n",
    "enum PokerCard {\n",
    "    Clubs(u8),\n",
    "    Spades(u8),\n",
    "    Diamonds(u8),\n",
    "    Hearts(u8),\n",
    "}\n",
    "\n",
    "/// 两个特殊的枚举：Option<T> 和 Result<T,E>\n",
    "/// \n",
    "// The Option Enum：A value can be \"something\" or \"nothing\". \n",
    "enum Option<T> {\n",
    "    Some(T),\n",
    "    None,\n",
    "}\n",
    "let result_int = Some(42);\n",
    "let absent_value: Option<u8> = None;\n",
    "\n",
    "println!(\"result_int            = {:?}\", result_int);\n",
    "println!(\"absent_value          = {:?}\", absent_value); \n",
    "println!(\"result_int.unwrap()   = {}\", result_int.unwrap());\n",
    "\n",
    "// The Result Enum： a function either returns a valid result or an error.  \n",
    "enum Result<T, E> {\n",
    "    Ok(T),\n",
    "    Err(E),\n",
    "}"
   ]
  },
  {
   "cell_type": "code",
   "execution_count": null,
   "metadata": {
    "vscode": {
     "languageId": "rust"
    }
   },
   "outputs": [],
   "source": [
    "// 数组\n",
    "let a: [i32; 5] = [1, 2, 3, 4, 5];\n",
    "let a: [i32; 5] = [0; 5];"
   ]
  },
  {
   "cell_type": "code",
   "execution_count": 6,
   "metadata": {
    "vscode": {
     "languageId": "rust"
    }
   },
   "outputs": [],
   "source": [
    "// 动态数组 Vec<T>\n",
    "let mut v: Vec<i32> = Vec::new();\n",
    "let v2 = vec![1, 2, 3];\n",
    "\n",
    "// HashMap\n",
    "use std::collections::HashMap; \n",
    "let mut my_gems = HashMap::new(); \n",
    "// 将宝石类型和对应的数量写入表中\n",
    "my_gems.insert(\"红宝石\", 1);\n",
    "my_gems.insert(\"蓝宝石\", 2);\n",
    "my_gems.insert(\"河边捡的误以为是宝石的破石头\", 18);\n"
   ]
  },
  {
   "cell_type": "markdown",
   "metadata": {},
   "source": [
    "## 流程控制\n",
    "- if/else\n",
    "- for/while/loop\n",
    "- continue/break\n",
    "- match/if let"
   ]
  },
  {
   "cell_type": "code",
   "execution_count": null,
   "metadata": {
    "vscode": {
     "languageId": "rust"
    }
   },
   "outputs": [],
   "source": [
    "enum Direction {\n",
    "    East,\n",
    "    West,\n",
    "    North,\n",
    "    South,\n",
    "}\n",
    "\n",
    "fn main() {\n",
    "    let dire = Direction::South;\n",
    "    match dire {\n",
    "        Direction::East => println!(\"East\"),\n",
    "        Direction::North | Direction::South => {\n",
    "            println!(\"South or North\");\n",
    "        },\n",
    "        _ => println!(\"West\"),\n",
    "    };\n",
    "}"
   ]
  },
  {
   "cell_type": "markdown",
   "metadata": {},
   "source": [
    "## 方法(method)和特征(trait)  \n",
    "\n",
    "- 函数(function): \n",
    "- 方法（method）：关联于某个对象的函数，impl\n",
    "- 特征(trait)： 方法的组合"
   ]
  },
  {
   "cell_type": "code",
   "execution_count": null,
   "metadata": {
    "vscode": {
     "languageId": "rust"
    }
   },
   "outputs": [],
   "source": [
    "struct Circle {\n",
    "    x: f64,\n",
    "    y: f64,\n",
    "    radius: f64,\n",
    "}\n",
    "\n",
    "impl Circle {\n",
    "    // new是Circle的关联函数，因为它的第一个参数不是self，且new并不是关键字\n",
    "    // 这种方法往往用于初始化当前结构体的实例\n",
    "    fn new(x: f64, y: f64, radius: f64) -> Circle {\n",
    "        Circle {\n",
    "            x: x,\n",
    "            y: y,\n",
    "            radius: radius,\n",
    "        }\n",
    "    }\n",
    "\n",
    "    // Circle的方法，&self表示借用当前的Circle结构体\n",
    "    fn area(&self) -> f64 {\n",
    "        std::f64::consts::PI * (self.radius * self.radius)\n",
    "    }\n",
    "}\n"
   ]
  },
  {
   "cell_type": "code",
   "execution_count": null,
   "metadata": {
    "vscode": {
     "languageId": "rust"
    }
   },
   "outputs": [],
   "source": [
    "fn add<T: std::ops::Add<Output = T>>(a:T, b:T) -> T {\n",
    "    a + b\n",
    "}\n"
   ]
  },
  {
   "cell_type": "markdown",
   "metadata": {},
   "source": [
    "## 生命周期\n",
    "\n",
    "1. Rust 中每一个值都被一个变量所拥有，该变量被称为值的所有者\n",
    "2. 一个值同时只能被一个变量所拥有，或者说一个值只能拥有一个所有者\n",
    "3. 当所有者(变量)离开作用域范围时，这个值将被丢弃(drop)  \n",
    "\n",
    "可变引用和不可变引用  \n",
    "- 获取变量的引用，称之为借用(borrowing)  \n",
    "- 同一作用域，特定数据只能有一个可变引用\n",
    "\n",
    "生命周期标注并不会改变任何引用的实际作用域 -- 鲁迅\n",
    "\n",
    "鲁迅说过的话，总是值得重点标注，当你未来更加理解生命周期时，你才会发现这句话的精髓和重要！现在先简单记住，标记的生命周期只是为了取悦编译器，让编译器不要难为我们，记住了吗？没记住，再回头看一遍，这对未来你遇到生命周期问题时会有"
   ]
  },
  {
   "cell_type": "code",
   "execution_count": null,
   "metadata": {
    "vscode": {
     "languageId": "rust"
    }
   },
   "outputs": [],
   "source": [
    "// Rust 永远也不会自动创建数据的 “深拷贝”\n",
    "// 如果我们确实需要，可以使用一个叫做 clone 的方法。\n",
    "\n",
    "let s1 = String::from(\"hello\");\n",
    "let s2 = s1.clone();\n",
    "\n",
    "println!(\"s1 = {}, s2 = {}\", s1, s2);\n",
    "\n",
    "// 浅拷贝只发生在栈上，因此性能很高，在日常编程中，浅拷贝无处不在\n",
    "let x = 5;\n",
    "let y = x; \n",
    "println!(\"x = {}, y = {}\", x, y); \n",
    "\n",
    "// Rust 有一个叫做 Copy 的特征，可以用在类似整型这样在栈中存储的类型。 \n",
    "// 任何基本类型的组合可以 Copy ，不需要分配内存或某种形式资源的类型是可以 Copy 的\n",
    "\n",
    "// 所有整数类型，比如 u32\n",
    "// 布尔类型，bool，它的值是 true 和 false\n",
    "// 所有浮点数类型，比如 f64\n",
    "// 字符类型，char\n",
    "// 元组，当且仅当其包含的类型也都是 Copy 的时候。比如，(i32, i32) 是 Copy 的，但 (i32, String) 就不是\n",
    "// 不可变引用 &T ，例如转移所有权中的最后一个例子，但是注意: 可变引用 &mut T 是不可以 Copy的"
   ]
  },
  {
   "cell_type": "code",
   "execution_count": null,
   "metadata": {
    "vscode": {
     "languageId": "rust"
    }
   },
   "outputs": [],
   "source": [
    "&i32        // 一个引用\n",
    "&'a i32     // 具有显式生命周期的引用\n",
    "&'a mut i32 // 具有显式生命周期的可变引用\n",
    "'static     // 静态生命周期\n",
    "\n",
    "// 函数引用参数的生命周期标注\n",
    "fn longest<'a>(x: &'a str, y: &'a str) -> &'a str {\n",
    "    if x.len() > y.len() {\n",
    "        x\n",
    "    } else {\n",
    "        y\n",
    "    }\n",
    "}\n",
    "\n",
    "// 结构体中使用引用也变得可能：只要为结构体中的每一个引用标注上生命周期即可：\n",
    "struct ImportantExcerpt<'a> {\n",
    "    part: &'a str,\n",
    "}\n",
    "fn main() {\n",
    "    let novel = String::from(\"Call me Ishmael. Some years ago...\");\n",
    "    let first_sentence = novel.split('.').next().expect(\"Could not find a '.'\");\n",
    "    let i = ImportantExcerpt {\n",
    "        part: first_sentence,\n",
    "    };\n",
    "}\n",
    "\n",
    "// 具有生命周期的结构体实现方法时，我们使用的语法跟泛型参数语法很相似：\n",
    "struct ImportantExcerpt<'a> {\n",
    "    part: &'a str,\n",
    "}\n",
    "impl<'a> ImportantExcerpt<'a> {\n",
    "    fn level(&self) -> i32 {\n",
    "        3\n",
    "    }\n",
    "}\n"
   ]
  },
  {
   "cell_type": "markdown",
   "metadata": {},
   "source": [
    "### 三条消除规则：不需显式标注生命周期\n",
    "其中第一条规则应用在输入生命周期上，第二、三条应用在输出生命周期上。 \n",
    "若编译器发现三条规则都不适用时，就会报错，提示你需要手动标注生命周期。\n",
    "\n",
    "1. 每一个引用参数都会获得独自的生命周期\n",
    "\n",
    "例如一个引用参数的函数就有一个生命周期标注: fn foo<'a>(x: &'a i32)，两个引用参数的有两个生命周期标注:fn foo<'a, 'b>(x: &'a i32, y: &'b i32), 依此类推。\n",
    "\n",
    "2. 若只有一个输入生命周期(函数参数中只有一个引用类型)，那么该生命周期会被赋给所有的输出生命周期，也就是所有返回值的生命周期都等于该输入生命周期\n",
    "\n",
    "例如函数 fn foo(x: &i32) -> &i32，x 参数的生命周期会被自动赋给返回值 &i32，因此该函数等同于 fn foo<'a>(x: &'a i32) -> &'a i32\n",
    "\n",
    "3. 若存在多个输入生命周期，且其中一个是 &self 或 &mut self，则 &self 的生命周期被赋给所有的输出生命周期\n",
    "\n",
    "拥有 &self 形式的参数，说明该函数是一个 方法，该规则让方法的使用便利度大幅提升。"
   ]
  },
  {
   "cell_type": "code",
   "execution_count": null,
   "metadata": {
    "vscode": {
     "languageId": "rust"
    }
   },
   "outputs": [],
   "source": [
    "// 结构体中使用引用也变得可能：只要为结构体中的每一个引用标注上生命周期即可：\n",
    "struct ImportantExcerpt<'a> {\n",
    "    part: &'a str,\n",
    "}\n",
    "{\n",
    "    let novel = String::from(\"Call me Ishmael. Some years ago...\");\n",
    "    let first_sentence = novel.split('.').next().expect(\"Could not find a '.'\");\n",
    "    let i = ImportantExcerpt {\n",
    "        part: first_sentence,\n",
    "    }; \n",
    "    println!(\"{}\",first_sentence);\n",
    "}"
   ]
  },
  {
   "cell_type": "markdown",
   "metadata": {},
   "source": [
    "# Rust进阶\n"
   ]
  },
  {
   "cell_type": "markdown",
   "metadata": {},
   "source": [
    "\n",
    "## 函数式编程\n"
   ]
  },
  {
   "cell_type": "code",
   "execution_count": 13,
   "metadata": {
    "vscode": {
     "languageId": "rust"
    }
   },
   "outputs": [],
   "source": [
    "fn x() {\n",
    "    let x = 1;\n",
    "    let sum = |y| x + y;\n",
    " \n",
    "     assert_eq!(3, sum(2));\n",
    " }\n",
    " \n",
    " x();"
   ]
  },
  {
   "cell_type": "markdown",
   "metadata": {},
   "source": [
    "- into_iter 会夺走所有权\n",
    "- iter 是借用\n",
    "- iter_mut 是可变借用"
   ]
  },
  {
   "cell_type": "code",
   "execution_count": null,
   "metadata": {
    "vscode": {
     "languageId": "rust"
    }
   },
   "outputs": [],
   "source": [
    "fn main() {\n",
    "    let values = vec![1, 2, 3];\n",
    "\n",
    "    for v in values.into_iter() {\n",
    "        println!(\"{}\", v)\n",
    "    }\n",
    "\n",
    "    // 下面的代码将报错，因为 values 的所有权在上面 `for` 循环中已经被转移走\n",
    "    // println!(\"{:?}\",values);\n",
    "\n",
    "    let values = vec![1, 2, 3];\n",
    "    let _values_iter = values.iter();\n",
    "\n",
    "    // 不会报错，因为 values_iter 只是借用了 values 中的元素\n",
    "    println!(\"{:?}\", values);\n",
    "\n",
    "    let mut values = vec![1, 2, 3];\n",
    "    // 对 values 中的元素进行可变借用\n",
    "    let mut values_iter_mut = values.iter_mut();\n",
    "\n",
    "    // 取出第一个元素，并修改为0\n",
    "    if let Some(v) = values_iter_mut.next() {\n",
    "        *v = 0;\n",
    "    }\n",
    "\n",
    "    // 输出[0, 2, 3]\n",
    "    println!(\"{:?}\", values);\n",
    "}"
   ]
  },
  {
   "cell_type": "markdown",
   "metadata": {},
   "source": [
    "\n",
    "## 智能指针"
   ]
  },
  {
   "cell_type": "markdown",
   "metadata": {},
   "source": [
    "## 并发"
   ]
  },
  {
   "cell_type": "code",
   "execution_count": null,
   "metadata": {
    "vscode": {
     "languageId": "rust"
    }
   },
   "outputs": [],
   "source": [
    "use std::thread;\n",
    "use std::time::Duration;\n",
    "\n",
    "fn main() {\n",
    "    let handle = thread::spawn(|| {\n",
    "        for i in 1..5 {\n",
    "            println!(\"hi number {} from the spawned thread!\", i);\n",
    "            thread::sleep(Duration::from_millis(1));\n",
    "        }\n",
    "    });\n",
    "\n",
    "    handle.join().unwrap();\n",
    "\n",
    "    for i in 1..5 {\n",
    "        println!(\"hi number {} from the main thread!\", i);\n",
    "        thread::sleep(Duration::from_millis(1));\n",
    "    }\n",
    "}"
   ]
  },
  {
   "cell_type": "code",
   "execution_count": 12,
   "metadata": {
    "vscode": {
     "languageId": "rust"
    }
   },
   "outputs": [
    {
     "ename": "Error",
     "evalue": "closure may outlive the current function, but it borrows `v`, which is owned by the current function",
     "output_type": "error",
     "traceback": [
      "        println!(\"Here's a vector: {:?}\", v);",
      "                                          ^ `v` is borrowed here",
      "    let handle = thread::spawn( || {",
      "                                ^^ may outlive borrowed value `v`",
      "closure may outlive the current function, but it borrows `v`, which is owned by the current function",
      "help: to force the closure to take ownership of `v` (and any other referenced variables), use the `move` keyword\n\nmove"
     ]
    }
   ],
   "source": [
    "use std::thread;\n",
    "\n",
    "fn main() {\n",
    "    let v = vec![1, 2, 3];\n",
    "\n",
    "    let handle = thread::spawn(move || {\n",
    "        println!(\"Here's a vector: {:?}\", v);\n",
    "    });\n",
    "\n",
    "    handle.join().unwrap();\n",
    "\n",
    "    // 下面代码会报错borrow of moved value: `v`\n",
    "    // println!(\"{:?}\",v);\n",
    "}"
   ]
  },
  {
   "cell_type": "markdown",
   "metadata": {},
   "source": [
    "# Rust工程\n",
    "\n",
    "- rustup Rust 自身和相应工具链的安装/升级/多版本等功能，一键管理\n",
    "- cargo Rust 的项目依赖/构建/单测/集成测试/发布/更新，一键管理\n",
    "- rustfmt Rust 的官方格式化工具，再也不用为括号和换行进行“圣战”\n",
    "- rustdoc Rust 的自动文档生成工具，代码写完，文档就写完"
   ]
  },
  {
   "cell_type": "markdown",
   "metadata": {},
   "source": [
    "## 代码组织\n",
    "\n",
    "- 项目(Packages)：一个 Cargo 提供的 feature，可以用来构建、测试和分享包\n",
    "- 包(Crate)：一个由多个模块组成的树形结构，可以作为三方库进行分发，也可以生成可执行文件进行运行\n",
    "- 模块(Module)：一个文件可以包含多个模块或者一个模块，模块可以被认为是真实项目中的代码组织单元"
   ]
  },
  {
   "cell_type": "markdown",
   "metadata": {},
   "source": [
    "## 文档"
   ]
  },
  {
   "cell_type": "markdown",
   "metadata": {},
   "source": [
    "## 测试"
   ]
  }
 ],
 "metadata": {
  "kernelspec": {
   "display_name": "Rust",
   "language": "rust",
   "name": "rust"
  },
  "language_info": {
   "codemirror_mode": "rust",
   "file_extension": ".rs",
   "mimetype": "text/rust",
   "name": "Rust",
   "pygment_lexer": "rust",
   "version": ""
  }
 },
 "nbformat": 4,
 "nbformat_minor": 2
}
