{
 "cells": [
  {
   "cell_type": "code",
   "execution_count": null,
   "metadata": {
    "vscode": {
     "languageId": "python"
    }
   },
   "outputs": [],
   "source": [
    "from functools import reduce\n",
    "import sys\n",
    "import onnx\n",
    "from onnx.mapping import TENSOR_TYPE_TO_NP_TYPE\n",
    "from collections import defaultdict\n",
    "\n",
    "def inspect_onnx(model_path): \n",
    "    onnx_model = onnx.load(model_path)\n",
    "    print(f\"====== load model {model_path} done.\")\n",
    "\n",
    "    g = onnx_model.graph\n",
    "\n",
    "    def process_node():\n",
    "        op_counter = defaultdict(int)\n",
    "        for node in g.node:\n",
    "            name = node.name\n",
    "            optype = name.split(\"/\")[-1].split(\"_\")[0]\n",
    "            optype = node.op_type\n",
    "            op_counter[optype] += 1\n",
    "\n",
    "        print(\"*\" * 50)\n",
    "        for k, v in sorted(op_counter.items()):\n",
    "            print(f\"{k:40}:  {v}\")\n",
    "        print(\"*\" * 50)\n",
    "        print(\"Total OP num: \", reduce(lambda i, j: i + j, op_counter.values(), 0))\n",
    "\n",
    "    def process_inout():\n",
    "        print(\"\\n\", \"*\" * 50, \"inputs:\")\n",
    "        for node in g.input:\n",
    "            name = node.name\n",
    "            dtype = str(TENSOR_TYPE_TO_NP_TYPE[node.type.tensor_type.elem_type])\n",
    "            shape = [dim.dim_value for dim in node.type.tensor_type.shape.dim]\n",
    "            print(f\"{name:40}{dtype:<10}{shape}\")\n",
    "            \n",
    "        print(\"\\n\", \"*\" * 50, \"outputs:\")\n",
    "        for node in g.output:\n",
    "            name = node.name\n",
    "            dtype = str(TENSOR_TYPE_TO_NP_TYPE[node.type.tensor_type.elem_type])\n",
    "            shape = [dim.dim_value for dim in node.type.tensor_type.shape.dim]\n",
    "            print(f\"{name:40}{dtype:<10}{shape}\")\n",
    "\n",
    "    def nodename_info():\n",
    "\n",
    "        node_name_set = set(n.name for n in g.node) \n",
    "        valinfo_name_set = set(n.name for n in g.value_info)\n",
    "\n",
    "\n",
    "        print(f\"node  name len: {len(node_name_set)}\") \n",
    "        print(f\"vainf name len: {len(valinfo_name_set)}\")\n",
    "\n",
    "        a = node_name_set.update(valinfo_name_set)\n",
    "        print(f\"merge name len: {len(node_name_set)}\")\n",
    "    \n",
    "    process_node()\n",
    "    process_inout()\n",
    "    nodename_info()"
   ]
  },
  {
   "cell_type": "code",
   "execution_count": null,
   "metadata": {
    "vscode": {
     "languageId": "python"
    }
   },
   "outputs": [],
   "source": [
    "import numpy as np\n",
    "import onnxruntime as ort\n",
    "\n",
    "def infer_onnx(model_path):\n",
    "    # Load the ONNX model\n",
    "    sess = ort.InferenceSession(model_path)\n",
    "    onnx_to_numpy_dtype = {\n",
    "        \"tensor(float16)\": np.float16,\n",
    "        \"tensor(float)\": np.float32,\n",
    "        \"tensor(double)\": np.float64,\n",
    "        \"tensor(int8)\": np.int8,\n",
    "        \"tensor(int16)\": np.int16,\n",
    "        \"tensor(int32)\": np.int32,\n",
    "        \"tensor(int64)\": np.int64,\n",
    "        \"tensor(uint8)\": np.uint8,\n",
    "        \"tensor(uint16)\": np.uint16,\n",
    "        \"tensor(uint32)\": np.uint32,\n",
    "        \"tensor(uint64)\": np.uint64,\n",
    "        # 'tensor(bool)': np.bool,\n",
    "    }\n",
    "\n",
    "    feeds = {}\n",
    "    for input in sess.get_inputs():\n",
    "        # Get input name and shape\n",
    "        input_name = input.name\n",
    "        input_shape = input.shape\n",
    "        numpy_type = onnx_to_numpy_dtype.get(input.type, None)\n",
    "        # Generate random input\n",
    "        input_data = np.random.random_sample(input_shape).astype(numpy_type)\n",
    "\n",
    "        feeds[input_name] = input_data\n",
    "\n",
    "    # Run the model\n",
    "    result = sess.run(None, feeds)\n",
    "\n",
    "    print([a.shape for a in result])\n"
   ]
  }
 ],
 "metadata": {
  "kernelspec": {
   "display_name": "Rust",
   "language": "rust",
   "name": "rust"
  },
  "language_info": {
   "codemirror_mode": "rust",
   "file_extension": ".rs",
   "mimetype": "text/rust",
   "name": "Rust",
   "pygment_lexer": "rust",
   "version": ""
  }
 },
 "nbformat": 4,
 "nbformat_minor": 2
}
